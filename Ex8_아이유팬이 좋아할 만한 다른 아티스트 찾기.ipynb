{
 "cells": [
  {
   "cell_type": "markdown",
   "metadata": {},
   "source": [
    "# 이 노드의 루브릭       \n",
    "\n",
    "1. CSR matrix가 정상적으로 만들어졌다.(사용자와 아이템 개수를 바탕으로 정확한 사이즈로 만들었다.)    \n",
    "2. MF 모델이 정상적으로 훈련되어 그럴듯한 추천이 이루어졌다. (사용자와 아이템 벡터 내적수치가 의미있게 형성되었다.)         \n",
    "3. 비슷한 영화 찾기와 유저에게 추천하기의 과정이 정상적으로 진행되었다. (MF모델이 예측한 유저 선호도 및 아이템간 유사도, 기여도가 의미있게 측정되었다.)        \n",
    "---\n",
    "\n",
    "## 목차\n",
    "\n",
    "1. 데이터 준비와 전처리        \n",
    "2. 데이터 분석          \n",
    "    - ratings에 있는 영화 개수(중복없이 카운팅)     \n",
    "    - ratings에 있는 사용자 수(중복없이 카운팅)        \n",
    "    - 가장 인기있는 영화 찾기(30개, 인기 순)         \n",
    "    \n",
    "    \n",
    "\n",
    "3. 선호하는 영화 5가지 rating에 추가하기         \n",
    "4. CSR matrix 만들기     \n",
    "5. als_model = AlternatingLeastSquares 모델을 직접 구성하여 훈련시키기      \n",
    "6. 선호하는 5가지 영화 중 하나와 그 외의 영화 하나를 골라 훈련 모델이 예측한 선호도 파악하기      \n",
    "7. 내가 좋아하는 영화와 비슷한 영화 추천받기         \n",
    "8. 내가 가장 좋아할 만한 영화들 추천받기         \n",
    "---"
   ]
  },
  {
   "cell_type": "markdown",
   "metadata": {},
   "source": [
    "### 시작하기 전에          \n",
    "\n",
    "1. Movielens data를 이용하여 영화 추천 시스템을 만들어보자.       \n",
    "2. 별점 데이터는 explicit 데이터이지만, 이번에는 implicit 데이터로 간주하고 테스트한다.    \n",
    "3. 별점을 '시청 횟수' 로 해석하여 생각한다.     \n",
    "4. 유저가 3점 미만으로 준 데이터는 선호하지 않는다고 가정하고, 제외한다.       \n",
    "\n",
    "---"
   ]
  },
  {
   "cell_type": "markdown",
   "metadata": {},
   "source": [
    "### 1. 데이터 준비와 전처리       \n",
    "\n",
    "- Movielens 데이터는 rading.dat 안에 인덱싱까지 완료된 사용자-영화-평점 데이터이다.    \n",
    "- 데이터를 불러와 확인해보자.     \n",
    "\n"
   ]
  },
  {
   "cell_type": "code",
   "execution_count": 172,
   "metadata": {},
   "outputs": [
    {
     "data": {
      "text/html": [
       "<div>\n",
       "<style scoped>\n",
       "    .dataframe tbody tr th:only-of-type {\n",
       "        vertical-align: middle;\n",
       "    }\n",
       "\n",
       "    .dataframe tbody tr th {\n",
       "        vertical-align: top;\n",
       "    }\n",
       "\n",
       "    .dataframe thead th {\n",
       "        text-align: right;\n",
       "    }\n",
       "</style>\n",
       "<table border=\"1\" class=\"dataframe\">\n",
       "  <thead>\n",
       "    <tr style=\"text-align: right;\">\n",
       "      <th></th>\n",
       "      <th>user_id</th>\n",
       "      <th>movie_id</th>\n",
       "      <th>rating</th>\n",
       "      <th>timestamp</th>\n",
       "    </tr>\n",
       "  </thead>\n",
       "  <tbody>\n",
       "    <tr>\n",
       "      <th>0</th>\n",
       "      <td>1</td>\n",
       "      <td>1193</td>\n",
       "      <td>5</td>\n",
       "      <td>978300760</td>\n",
       "    </tr>\n",
       "    <tr>\n",
       "      <th>1</th>\n",
       "      <td>1</td>\n",
       "      <td>661</td>\n",
       "      <td>3</td>\n",
       "      <td>978302109</td>\n",
       "    </tr>\n",
       "    <tr>\n",
       "      <th>2</th>\n",
       "      <td>1</td>\n",
       "      <td>914</td>\n",
       "      <td>3</td>\n",
       "      <td>978301968</td>\n",
       "    </tr>\n",
       "    <tr>\n",
       "      <th>3</th>\n",
       "      <td>1</td>\n",
       "      <td>3408</td>\n",
       "      <td>4</td>\n",
       "      <td>978300275</td>\n",
       "    </tr>\n",
       "    <tr>\n",
       "      <th>4</th>\n",
       "      <td>1</td>\n",
       "      <td>2355</td>\n",
       "      <td>5</td>\n",
       "      <td>978824291</td>\n",
       "    </tr>\n",
       "  </tbody>\n",
       "</table>\n",
       "</div>"
      ],
      "text/plain": [
       "   user_id  movie_id  rating  timestamp\n",
       "0        1      1193       5  978300760\n",
       "1        1       661       3  978302109\n",
       "2        1       914       3  978301968\n",
       "3        1      3408       4  978300275\n",
       "4        1      2355       5  978824291"
      ]
     },
     "execution_count": 172,
     "metadata": {},
     "output_type": "execute_result"
    }
   ],
   "source": [
    "import os\n",
    "import pandas as pd\n",
    "\n",
    "file_path = os.getenv('HOME') + '/SUBMIT_MISSION_GIT/ex8_Suggestion/MovieData/ml-1m/ratings.dat'\n",
    "\n",
    "rating_col = ['user_id', 'movie_id', 'rating', 'timestamp']\n",
    "ratings = pd.read_csv(file_path, sep='::', names=rating_col, engine='python')\n",
    "\n",
    "original_data_size = len(ratings)\n",
    "ratings.head()"
   ]
  },
  {
   "cell_type": "markdown",
   "metadata": {},
   "source": [
    "> 사용자_아이디, 영화_아이디, 사용자가 이 영화에 준 별점, 타임스탬프 순으로 데이터가 출력됨을 알 수 있다."
   ]
  },
  {
   "cell_type": "code",
   "execution_count": 173,
   "metadata": {},
   "outputs": [
    {
     "name": "stdout",
     "output_type": "stream",
     "text": [
      "original_data_size : 1000209, changed_data_size: 836478\n",
      "Ratio of Remaining Data is 83.63%\n"
     ]
    }
   ],
   "source": [
    "# 전제 조건에서, 3점 미만의 데이터는 비선호로 생각하기로 정했으므로 3점 이상의 별점만 남긴다.\n",
    "ratings = ratings[ratings['rating'] >= 3]\n",
    "changed_data_size = len(ratings)\n",
    "\n",
    "print(f'original_data_size : {original_data_size}, changed_data_size: {changed_data_size}')\n",
    "print(f'Ratio of Remaining Data is {changed_data_size/original_data_size:.2%}')      "
   ]
  },
  {
   "cell_type": "markdown",
   "metadata": {},
   "source": [
    "> 전체 데이터 1,000,209개 데이터 중 836,478의 데이터가 남았다.    \n",
    "> 전체 데이터의 83.63%가 별점 3점 이상의 데이터이다."
   ]
  },
  {
   "cell_type": "code",
   "execution_count": 174,
   "metadata": {},
   "outputs": [
    {
     "data": {
      "text/plain": [
       "0          5\n",
       "1          3\n",
       "2          3\n",
       "3          4\n",
       "4          5\n",
       "          ..\n",
       "1000203    3\n",
       "1000205    5\n",
       "1000206    5\n",
       "1000207    4\n",
       "1000208    4\n",
       "Name: count, Length: 836478, dtype: int64"
      ]
     },
     "execution_count": 174,
     "metadata": {},
     "output_type": "execute_result"
    }
   ],
   "source": [
    "#inplace=True 는 기존 파일에서 rating col을 count col로 대체시키겠다는 옵션이다.\n",
    "#python pandas의 2가지 rename 방식(리스트, 딕셔너리) 중 딕셔너리 방식을 적용했다.\n",
    "ratings.rename(columns={'rating':'count'}, inplace=True)\n",
    "\n",
    "ratings['count']"
   ]
  },
  {
   "cell_type": "code",
   "execution_count": 175,
   "metadata": {},
   "outputs": [
    {
     "data": {
      "text/html": [
       "<div>\n",
       "<style scoped>\n",
       "    .dataframe tbody tr th:only-of-type {\n",
       "        vertical-align: middle;\n",
       "    }\n",
       "\n",
       "    .dataframe tbody tr th {\n",
       "        vertical-align: top;\n",
       "    }\n",
       "\n",
       "    .dataframe thead th {\n",
       "        text-align: right;\n",
       "    }\n",
       "</style>\n",
       "<table border=\"1\" class=\"dataframe\">\n",
       "  <thead>\n",
       "    <tr style=\"text-align: right;\">\n",
       "      <th></th>\n",
       "      <th>movie_id</th>\n",
       "      <th>title</th>\n",
       "      <th>genre</th>\n",
       "    </tr>\n",
       "  </thead>\n",
       "  <tbody>\n",
       "    <tr>\n",
       "      <th>0</th>\n",
       "      <td>1</td>\n",
       "      <td>Toy Story (1995)</td>\n",
       "      <td>Animation|Children's|Comedy</td>\n",
       "    </tr>\n",
       "    <tr>\n",
       "      <th>1</th>\n",
       "      <td>2</td>\n",
       "      <td>Jumanji (1995)</td>\n",
       "      <td>Adventure|Children's|Fantasy</td>\n",
       "    </tr>\n",
       "    <tr>\n",
       "      <th>2</th>\n",
       "      <td>3</td>\n",
       "      <td>Grumpier Old Men (1995)</td>\n",
       "      <td>Comedy|Romance</td>\n",
       "    </tr>\n",
       "    <tr>\n",
       "      <th>3</th>\n",
       "      <td>4</td>\n",
       "      <td>Waiting to Exhale (1995)</td>\n",
       "      <td>Comedy|Drama</td>\n",
       "    </tr>\n",
       "    <tr>\n",
       "      <th>4</th>\n",
       "      <td>5</td>\n",
       "      <td>Father of the Bride Part II (1995)</td>\n",
       "      <td>Comedy</td>\n",
       "    </tr>\n",
       "  </tbody>\n",
       "</table>\n",
       "</div>"
      ],
      "text/plain": [
       "   movie_id                               title                         genre\n",
       "0         1                    Toy Story (1995)   Animation|Children's|Comedy\n",
       "1         2                      Jumanji (1995)  Adventure|Children's|Fantasy\n",
       "2         3             Grumpier Old Men (1995)                Comedy|Romance\n",
       "3         4            Waiting to Exhale (1995)                  Comedy|Drama\n",
       "4         5  Father of the Bride Part II (1995)                        Comedy"
      ]
     },
     "execution_count": 175,
     "metadata": {},
     "output_type": "execute_result"
    }
   ],
   "source": [
    "# 영화 데이터와 movie_id를 어떻게 매칭할 수 있을까?\n",
    "movie_file_path = os.getenv('HOME') + '/SUBMIT_MISSION_GIT/ex8_Suggestion/MovieData/ml-1m/movies.dat'\n",
    "\n",
    "cols = ['movie_id', 'title', 'genre']\n",
    "movies = pd.read_csv(movie_file_path, sep='::', names=cols, engine='python')\n",
    "\n",
    "movies.head()"
   ]
  },
  {
   "cell_type": "markdown",
   "metadata": {},
   "source": [
    "---\n",
    "### 2. 데이터 분석하기         \n",
    "\n",
    "- MF 모델을 만들기 전에, 주어진 영화 레이팅 데이터를 좀 더 분석해보자.    \n",
    "\n",
    "- 데이터 분석\n",
    "    - 1. ratings에 있는 영화 개수(중복없이 카운팅)\n",
    "    - 2. ratings에 있는 사용자 수(중복없이 카운팅)\n",
    "    - 3. 가장 인기있는 영화 찾기(30개, 인기 순)"
   ]
  },
  {
   "cell_type": "code",
   "execution_count": 176,
   "metadata": {},
   "outputs": [
    {
     "name": "stdout",
     "output_type": "stream",
     "text": [
      "총 영화 수 :  3628\n"
     ]
    }
   ],
   "source": [
    "#1. ratings에 있는 영화 개수(중복없이 카운팅)\n",
    "\n",
    "print(\"총 영화 수 : \", ratings['movie_id'].nunique())"
   ]
  },
  {
   "cell_type": "code",
   "execution_count": 177,
   "metadata": {},
   "outputs": [
    {
     "name": "stdout",
     "output_type": "stream",
     "text": [
      "사용자 수 :  6039\n"
     ]
    }
   ],
   "source": [
    "#2. 데이터 내 사용자 수(중복없이 카운팅)   \n",
    "\n",
    "print(\"사용자 수 : \" , ratings['user_id'].nunique())"
   ]
  },
  {
   "cell_type": "code",
   "execution_count": 178,
   "metadata": {},
   "outputs": [
    {
     "data": {
      "text/plain": [
       "movie_id\n",
       "2858    3211\n",
       "260     2910\n",
       "1196    2885\n",
       "1210    2716\n",
       "2028    2561\n",
       "589     2509\n",
       "593     2498\n",
       "1198    2473\n",
       "1270    2460\n",
       "2571    2434\n",
       "480     2413\n",
       "2762    2385\n",
       "608     2371\n",
       "110     2314\n",
       "1580    2297\n",
       "527     2257\n",
       "1197    2252\n",
       "2396    2213\n",
       "1617    2210\n",
       "318     2194\n",
       "858     2167\n",
       "1265    2121\n",
       "1097    2102\n",
       "2997    2066\n",
       "2716    2051\n",
       "296     2030\n",
       "356     2022\n",
       "1240    2019\n",
       "1       2000\n",
       "457     1941\n",
       "Name: user_id, dtype: int64"
      ]
     },
     "execution_count": 178,
     "metadata": {},
     "output_type": "execute_result"
    }
   ],
   "source": [
    "#3. 상위 30위 안에 드는 영화 찾기(30개, 인기 순 정렬)\n",
    "\n",
    "people_like_this = ratings.groupby('movie_id')['user_id'].count()\n",
    "people_like_this.sort_values(ascending=False).head(30)"
   ]
  },
  {
   "cell_type": "markdown",
   "metadata": {},
   "source": [
    "> 데이터 분석 결과    \n",
    "> 1. 총 영화 수는 3,628개    \n",
    "> 2. 사용자 수는 6,039명   \n",
    "> 3. 인기있는 영화 명단은....?    \n",
    "\n",
    "- 인기있는 영화를 '제목'으로 알아볼 수 있게끔 다시 출력해보자."
   ]
  },
  {
   "cell_type": "code",
   "execution_count": 190,
   "metadata": {},
   "outputs": [
    {
     "name": "stdout",
     "output_type": "stream",
     "text": [
      "합치기 전 데이터 개수 : ratings 데이터 개수 836478 movies 데이터 개수: 836478\n",
      "합쳐진 데이터 개수 재확인 : 836478\n"
     ]
    },
    {
     "data": {
      "text/html": [
       "<div>\n",
       "<style scoped>\n",
       "    .dataframe tbody tr th:only-of-type {\n",
       "        vertical-align: middle;\n",
       "    }\n",
       "\n",
       "    .dataframe tbody tr th {\n",
       "        vertical-align: top;\n",
       "    }\n",
       "\n",
       "    .dataframe thead th {\n",
       "        text-align: right;\n",
       "    }\n",
       "</style>\n",
       "<table border=\"1\" class=\"dataframe\">\n",
       "  <thead>\n",
       "    <tr style=\"text-align: right;\">\n",
       "      <th></th>\n",
       "      <th>user_id</th>\n",
       "      <th>movie_id</th>\n",
       "      <th>count</th>\n",
       "      <th>timestamp</th>\n",
       "      <th>title</th>\n",
       "      <th>genre</th>\n",
       "    </tr>\n",
       "  </thead>\n",
       "  <tbody>\n",
       "    <tr>\n",
       "      <th>0</th>\n",
       "      <td>1</td>\n",
       "      <td>1193</td>\n",
       "      <td>5</td>\n",
       "      <td>978300760</td>\n",
       "      <td>One Flew Over the Cuckoo's Nest (1975)</td>\n",
       "      <td>Drama</td>\n",
       "    </tr>\n",
       "    <tr>\n",
       "      <th>1</th>\n",
       "      <td>2</td>\n",
       "      <td>1193</td>\n",
       "      <td>5</td>\n",
       "      <td>978298413</td>\n",
       "      <td>One Flew Over the Cuckoo's Nest (1975)</td>\n",
       "      <td>Drama</td>\n",
       "    </tr>\n",
       "    <tr>\n",
       "      <th>2</th>\n",
       "      <td>12</td>\n",
       "      <td>1193</td>\n",
       "      <td>4</td>\n",
       "      <td>978220179</td>\n",
       "      <td>One Flew Over the Cuckoo's Nest (1975)</td>\n",
       "      <td>Drama</td>\n",
       "    </tr>\n",
       "    <tr>\n",
       "      <th>3</th>\n",
       "      <td>15</td>\n",
       "      <td>1193</td>\n",
       "      <td>4</td>\n",
       "      <td>978199279</td>\n",
       "      <td>One Flew Over the Cuckoo's Nest (1975)</td>\n",
       "      <td>Drama</td>\n",
       "    </tr>\n",
       "    <tr>\n",
       "      <th>4</th>\n",
       "      <td>17</td>\n",
       "      <td>1193</td>\n",
       "      <td>5</td>\n",
       "      <td>978158471</td>\n",
       "      <td>One Flew Over the Cuckoo's Nest (1975)</td>\n",
       "      <td>Drama</td>\n",
       "    </tr>\n",
       "    <tr>\n",
       "      <th>...</th>\n",
       "      <td>...</td>\n",
       "      <td>...</td>\n",
       "      <td>...</td>\n",
       "      <td>...</td>\n",
       "      <td>...</td>\n",
       "      <td>...</td>\n",
       "    </tr>\n",
       "    <tr>\n",
       "      <th>836473</th>\n",
       "      <td>5851</td>\n",
       "      <td>3607</td>\n",
       "      <td>5</td>\n",
       "      <td>957756608</td>\n",
       "      <td>One Little Indian (1973)</td>\n",
       "      <td>Comedy|Drama|Western</td>\n",
       "    </tr>\n",
       "    <tr>\n",
       "      <th>836474</th>\n",
       "      <td>5854</td>\n",
       "      <td>3026</td>\n",
       "      <td>4</td>\n",
       "      <td>958346883</td>\n",
       "      <td>Slaughterhouse (1987)</td>\n",
       "      <td>Horror</td>\n",
       "    </tr>\n",
       "    <tr>\n",
       "      <th>836475</th>\n",
       "      <td>5854</td>\n",
       "      <td>690</td>\n",
       "      <td>3</td>\n",
       "      <td>957744257</td>\n",
       "      <td>Promise, The (Versprechen, Das) (1994)</td>\n",
       "      <td>Romance</td>\n",
       "    </tr>\n",
       "    <tr>\n",
       "      <th>836476</th>\n",
       "      <td>5938</td>\n",
       "      <td>2909</td>\n",
       "      <td>4</td>\n",
       "      <td>957273353</td>\n",
       "      <td>Five Wives, Three Secretaries and Me (1998)</td>\n",
       "      <td>Documentary</td>\n",
       "    </tr>\n",
       "    <tr>\n",
       "      <th>836477</th>\n",
       "      <td>5948</td>\n",
       "      <td>1360</td>\n",
       "      <td>5</td>\n",
       "      <td>1016563709</td>\n",
       "      <td>Identification of a Woman (Identificazione di ...</td>\n",
       "      <td>Drama</td>\n",
       "    </tr>\n",
       "  </tbody>\n",
       "</table>\n",
       "<p>836478 rows × 6 columns</p>\n",
       "</div>"
      ],
      "text/plain": [
       "        user_id  movie_id  count   timestamp  \\\n",
       "0             1      1193      5   978300760   \n",
       "1             2      1193      5   978298413   \n",
       "2            12      1193      4   978220179   \n",
       "3            15      1193      4   978199279   \n",
       "4            17      1193      5   978158471   \n",
       "...         ...       ...    ...         ...   \n",
       "836473     5851      3607      5   957756608   \n",
       "836474     5854      3026      4   958346883   \n",
       "836475     5854       690      3   957744257   \n",
       "836476     5938      2909      4   957273353   \n",
       "836477     5948      1360      5  1016563709   \n",
       "\n",
       "                                                    title  \\\n",
       "0                  One Flew Over the Cuckoo's Nest (1975)   \n",
       "1                  One Flew Over the Cuckoo's Nest (1975)   \n",
       "2                  One Flew Over the Cuckoo's Nest (1975)   \n",
       "3                  One Flew Over the Cuckoo's Nest (1975)   \n",
       "4                  One Flew Over the Cuckoo's Nest (1975)   \n",
       "...                                                   ...   \n",
       "836473                           One Little Indian (1973)   \n",
       "836474                              Slaughterhouse (1987)   \n",
       "836475             Promise, The (Versprechen, Das) (1994)   \n",
       "836476        Five Wives, Three Secretaries and Me (1998)   \n",
       "836477  Identification of a Woman (Identificazione di ...   \n",
       "\n",
       "                       genre  \n",
       "0                      Drama  \n",
       "1                      Drama  \n",
       "2                      Drama  \n",
       "3                      Drama  \n",
       "4                      Drama  \n",
       "...                      ...  \n",
       "836473  Comedy|Drama|Western  \n",
       "836474                Horror  \n",
       "836475               Romance  \n",
       "836476           Documentary  \n",
       "836477                 Drama  \n",
       "\n",
       "[836478 rows x 6 columns]"
      ]
     },
     "execution_count": 190,
     "metadata": {},
     "output_type": "execute_result"
    }
   ],
   "source": [
    "# 사용자id, 영화id, 사용자가 준 별점에 대한 정보가 있는 ratings 파일과\n",
    "# 영화id, 영화 제목, 영화 장르에 대한 정보가 있는 movies 파일을 \n",
    "# 공통인 \"영화id\"를 기준으로 병합한다.\n",
    "merged_data = pd.merge(ratings, movies, on='movie_id')\n",
    "\n",
    "print(\"합치기 전 데이터 개수 : ratings 데이터 개수 {0} movies 데이터 개수: {0}\".format(len(ratings), len(movies))) \n",
    "print(\"합쳐진 데이터 개수 재확인 :\" , len(merged_data))\n",
    "merged_data"
   ]
  },
  {
   "cell_type": "markdown",
   "metadata": {},
   "source": [
    ">-  먼저, 영화 id와 영화 제목을 함께 매칭하기 위해 ratings 데이터와 movies 파일을 movie_id 를 기준으로 병합하였다.       \n",
    ">-  병합 전의 두 파일(ratings, movies)의 길이와 병합된 후의 파일(merged_data)의 길이가 같음을 확인할 수 있다."
   ]
  },
  {
   "cell_type": "code",
   "execution_count": 191,
   "metadata": {},
   "outputs": [
    {
     "data": {
      "text/plain": [
       "title\n",
       "American Beauty (1999)                                   3211\n",
       "Star Wars: Episode IV - A New Hope (1977)                2910\n",
       "Star Wars: Episode V - The Empire Strikes Back (1980)    2885\n",
       "Star Wars: Episode VI - Return of the Jedi (1983)        2716\n",
       "Saving Private Ryan (1998)                               2561\n",
       "Terminator 2: Judgment Day (1991)                        2509\n",
       "Silence of the Lambs, The (1991)                         2498\n",
       "Raiders of the Lost Ark (1981)                           2473\n",
       "Back to the Future (1985)                                2460\n",
       "Matrix, The (1999)                                       2434\n",
       "Jurassic Park (1993)                                     2413\n",
       "Sixth Sense, The (1999)                                  2385\n",
       "Fargo (1996)                                             2371\n",
       "Braveheart (1995)                                        2314\n",
       "Men in Black (1997)                                      2297\n",
       "Schindler's List (1993)                                  2257\n",
       "Princess Bride, The (1987)                               2252\n",
       "Shakespeare in Love (1998)                               2213\n",
       "L.A. Confidential (1997)                                 2210\n",
       "Shawshank Redemption, The (1994)                         2194\n",
       "Godfather, The (1972)                                    2167\n",
       "Groundhog Day (1993)                                     2121\n",
       "E.T. the Extra-Terrestrial (1982)                        2102\n",
       "Being John Malkovich (1999)                              2066\n",
       "Ghostbusters (1984)                                      2051\n",
       "Pulp Fiction (1994)                                      2030\n",
       "Forrest Gump (1994)                                      2022\n",
       "Terminator, The (1984)                                   2019\n",
       "Toy Story (1995)                                         2000\n",
       "Fugitive, The (1993)                                     1941\n",
       "Name: user_id, dtype: int64"
      ]
     },
     "execution_count": 191,
     "metadata": {},
     "output_type": "execute_result"
    }
   ],
   "source": [
    "people_likes = merged_data.groupby(['title'])['user_id'].count()\n",
    "\n",
    "people_likes.sort_values(ascending=False).head(30)"
   ]
  },
  {
   "cell_type": "markdown",
   "metadata": {},
   "source": [
    "> - 병합한 데이터를 이용하여, 사용자들의 선호 평가가 가장 많았던 30개의 영화를 순서대로 정렬하였다.    \n",
    "> - (우리는 비선호 데이터를 모두 삭제하였으므로, 남아있는 user_id의 count() 수가 사용자의 '좋아요' 수와 같다고 할 수 있다.)"
   ]
  },
  {
   "cell_type": "markdown",
   "metadata": {},
   "source": [
    "---\n",
    "## 3. 선호하는 영화 5가지 ratings에 추가하기     \n",
    "\n",
    "- ratings에 선호하는 5가지 영화를 추가해보자.    \n",
    "- 추가하려면 ratings에 이미 영화가 있어야 한다.. "
   ]
  },
  {
   "cell_type": "code",
   "execution_count": 192,
   "metadata": {},
   "outputs": [
    {
     "name": "stdout",
     "output_type": "stream",
     "text": [
      "유저 수:  6039 영화 수: 3628\n"
     ]
    }
   ],
   "source": [
    "unique_user = merged_data['user_id'].unique()\n",
    "unique_movie = merged_data['movie_id'].unique()\n",
    "\n",
    "print(\"유저 수: \", len(unique_user), \"영화 수:\", len(unique_movie))"
   ]
  },
  {
   "cell_type": "markdown",
   "metadata": {},
   "source": [
    "* 데이터 정리를 위해 인덱싱을 해 준다.\n",
    "(안하고 돌렸다가 에러나서 처음부터 다시 함..)"
   ]
  },
  {
   "cell_type": "code",
   "execution_count": 193,
   "metadata": {},
   "outputs": [
    {
     "data": {
      "text/html": [
       "<div>\n",
       "<style scoped>\n",
       "    .dataframe tbody tr th:only-of-type {\n",
       "        vertical-align: middle;\n",
       "    }\n",
       "\n",
       "    .dataframe tbody tr th {\n",
       "        vertical-align: top;\n",
       "    }\n",
       "\n",
       "    .dataframe thead th {\n",
       "        text-align: right;\n",
       "    }\n",
       "</style>\n",
       "<table border=\"1\" class=\"dataframe\">\n",
       "  <thead>\n",
       "    <tr style=\"text-align: right;\">\n",
       "      <th></th>\n",
       "      <th>user_id</th>\n",
       "      <th>movie_id</th>\n",
       "      <th>count</th>\n",
       "      <th>timestamp</th>\n",
       "      <th>title</th>\n",
       "      <th>genre</th>\n",
       "    </tr>\n",
       "  </thead>\n",
       "  <tbody>\n",
       "    <tr>\n",
       "      <th>836473</th>\n",
       "      <td>5851</td>\n",
       "      <td>3607.0</td>\n",
       "      <td>5</td>\n",
       "      <td>9.577566e+08</td>\n",
       "      <td>One Little Indian (1973)</td>\n",
       "      <td>Comedy|Drama|Western</td>\n",
       "    </tr>\n",
       "    <tr>\n",
       "      <th>836474</th>\n",
       "      <td>5854</td>\n",
       "      <td>3026.0</td>\n",
       "      <td>4</td>\n",
       "      <td>9.583469e+08</td>\n",
       "      <td>Slaughterhouse (1987)</td>\n",
       "      <td>Horror</td>\n",
       "    </tr>\n",
       "    <tr>\n",
       "      <th>836475</th>\n",
       "      <td>5854</td>\n",
       "      <td>690.0</td>\n",
       "      <td>3</td>\n",
       "      <td>9.577443e+08</td>\n",
       "      <td>Promise, The (Versprechen, Das) (1994)</td>\n",
       "      <td>Romance</td>\n",
       "    </tr>\n",
       "    <tr>\n",
       "      <th>836476</th>\n",
       "      <td>5938</td>\n",
       "      <td>2909.0</td>\n",
       "      <td>4</td>\n",
       "      <td>9.572734e+08</td>\n",
       "      <td>Five Wives, Three Secretaries and Me (1998)</td>\n",
       "      <td>Documentary</td>\n",
       "    </tr>\n",
       "    <tr>\n",
       "      <th>836477</th>\n",
       "      <td>5948</td>\n",
       "      <td>1360.0</td>\n",
       "      <td>5</td>\n",
       "      <td>1.016564e+09</td>\n",
       "      <td>Identification of a Woman (Identificazione di ...</td>\n",
       "      <td>Drama</td>\n",
       "    </tr>\n",
       "    <tr>\n",
       "      <th>0</th>\n",
       "      <td>9425</td>\n",
       "      <td>NaN</td>\n",
       "      <td>4</td>\n",
       "      <td>NaN</td>\n",
       "      <td>Priest (1994)</td>\n",
       "      <td>NaN</td>\n",
       "    </tr>\n",
       "    <tr>\n",
       "      <th>1</th>\n",
       "      <td>9425</td>\n",
       "      <td>NaN</td>\n",
       "      <td>5</td>\n",
       "      <td>NaN</td>\n",
       "      <td>Sister Act (1992)</td>\n",
       "      <td>NaN</td>\n",
       "    </tr>\n",
       "    <tr>\n",
       "      <th>2</th>\n",
       "      <td>9425</td>\n",
       "      <td>NaN</td>\n",
       "      <td>5</td>\n",
       "      <td>NaN</td>\n",
       "      <td>Parent Trap, The (1998)</td>\n",
       "      <td>NaN</td>\n",
       "    </tr>\n",
       "    <tr>\n",
       "      <th>3</th>\n",
       "      <td>9425</td>\n",
       "      <td>NaN</td>\n",
       "      <td>4</td>\n",
       "      <td>NaN</td>\n",
       "      <td>Toy Story (1995)</td>\n",
       "      <td>NaN</td>\n",
       "    </tr>\n",
       "    <tr>\n",
       "      <th>4</th>\n",
       "      <td>9425</td>\n",
       "      <td>NaN</td>\n",
       "      <td>3</td>\n",
       "      <td>NaN</td>\n",
       "      <td>Dinosaur (2000)</td>\n",
       "      <td>NaN</td>\n",
       "    </tr>\n",
       "  </tbody>\n",
       "</table>\n",
       "</div>"
      ],
      "text/plain": [
       "        user_id  movie_id  count     timestamp  \\\n",
       "836473     5851    3607.0      5  9.577566e+08   \n",
       "836474     5854    3026.0      4  9.583469e+08   \n",
       "836475     5854     690.0      3  9.577443e+08   \n",
       "836476     5938    2909.0      4  9.572734e+08   \n",
       "836477     5948    1360.0      5  1.016564e+09   \n",
       "0          9425       NaN      4           NaN   \n",
       "1          9425       NaN      5           NaN   \n",
       "2          9425       NaN      5           NaN   \n",
       "3          9425       NaN      4           NaN   \n",
       "4          9425       NaN      3           NaN   \n",
       "\n",
       "                                                    title  \\\n",
       "836473                           One Little Indian (1973)   \n",
       "836474                              Slaughterhouse (1987)   \n",
       "836475             Promise, The (Versprechen, Das) (1994)   \n",
       "836476        Five Wives, Three Secretaries and Me (1998)   \n",
       "836477  Identification of a Woman (Identificazione di ...   \n",
       "0                                           Priest (1994)   \n",
       "1                                       Sister Act (1992)   \n",
       "2                                 Parent Trap, The (1998)   \n",
       "3                                        Toy Story (1995)   \n",
       "4                                         Dinosaur (2000)   \n",
       "\n",
       "                       genre  \n",
       "836473  Comedy|Drama|Western  \n",
       "836474                Horror  \n",
       "836475               Romance  \n",
       "836476           Documentary  \n",
       "836477                 Drama  \n",
       "0                        NaN  \n",
       "1                        NaN  \n",
       "2                        NaN  \n",
       "3                        NaN  \n",
       "4                        NaN  "
      ]
     },
     "execution_count": 193,
     "metadata": {},
     "output_type": "execute_result"
    }
   ],
   "source": [
    "movie_title = [\"Priest (1994)\", \"Sister Act (1992)\", \"Parent Trap, The (1998)\", \"Toy Story (1995)\", \"Dinosaur (2000)\"]\n",
    "my_assessment = [4,5,5,4,3]\n",
    "\n",
    "my_movies = pd.DataFrame({'user_id':[9425]*5, 'title':movie_title, 'count':my_assessment})\n",
    "\n",
    "if not merged_data.isin({'user_id':[9425]})['user_id'].any():\n",
    "    merged_data = merged_data.append(my_movies)\n",
    "\n",
    "merged_data.tail(10)"
   ]
  },
  {
   "cell_type": "markdown",
   "metadata": {},
   "source": [
    "### 일부러 user_id, title, count만 추가하고 나머지는 NaN으로 두었다.      \n",
    "##### 왜냐면, title을 기준으로 다시 인덱싱 할 것이기 때문 ^^.....\n",
    "\n",
    "- 과제 첫 시도 때에는 title을 죽이고 movie_id를 살리는 식으로 데이터를 처리했는데, 후에 csr 매트릭스를 만드는 과정에서 data 길이 오류가 났다.     \n",
    "- 따라서, merged_data를 기준으로 데이터를 활용하되   \n",
    "- __title을 기준으로 고유 번호를 인덱싱하기로__ 했다."
   ]
  },
  {
   "cell_type": "markdown",
   "metadata": {},
   "source": [
    "#### 위의 표를 기준으로, 사용할 3개의 row만 남겨주자.(유저, 영화제목, 평점)"
   ]
  },
  {
   "cell_type": "code",
   "execution_count": 195,
   "metadata": {},
   "outputs": [
    {
     "data": {
      "text/html": [
       "<div>\n",
       "<style scoped>\n",
       "    .dataframe tbody tr th:only-of-type {\n",
       "        vertical-align: middle;\n",
       "    }\n",
       "\n",
       "    .dataframe tbody tr th {\n",
       "        vertical-align: top;\n",
       "    }\n",
       "\n",
       "    .dataframe thead th {\n",
       "        text-align: right;\n",
       "    }\n",
       "</style>\n",
       "<table border=\"1\" class=\"dataframe\">\n",
       "  <thead>\n",
       "    <tr style=\"text-align: right;\">\n",
       "      <th></th>\n",
       "      <th>user_id</th>\n",
       "      <th>title</th>\n",
       "      <th>count</th>\n",
       "    </tr>\n",
       "  </thead>\n",
       "  <tbody>\n",
       "    <tr>\n",
       "      <th>836473</th>\n",
       "      <td>5851</td>\n",
       "      <td>One Little Indian (1973)</td>\n",
       "      <td>5</td>\n",
       "    </tr>\n",
       "    <tr>\n",
       "      <th>836474</th>\n",
       "      <td>5854</td>\n",
       "      <td>Slaughterhouse (1987)</td>\n",
       "      <td>4</td>\n",
       "    </tr>\n",
       "    <tr>\n",
       "      <th>836475</th>\n",
       "      <td>5854</td>\n",
       "      <td>Promise, The (Versprechen, Das) (1994)</td>\n",
       "      <td>3</td>\n",
       "    </tr>\n",
       "    <tr>\n",
       "      <th>836476</th>\n",
       "      <td>5938</td>\n",
       "      <td>Five Wives, Three Secretaries and Me (1998)</td>\n",
       "      <td>4</td>\n",
       "    </tr>\n",
       "    <tr>\n",
       "      <th>836477</th>\n",
       "      <td>5948</td>\n",
       "      <td>Identification of a Woman (Identificazione di ...</td>\n",
       "      <td>5</td>\n",
       "    </tr>\n",
       "    <tr>\n",
       "      <th>0</th>\n",
       "      <td>9425</td>\n",
       "      <td>Priest (1994)</td>\n",
       "      <td>4</td>\n",
       "    </tr>\n",
       "    <tr>\n",
       "      <th>1</th>\n",
       "      <td>9425</td>\n",
       "      <td>Sister Act (1992)</td>\n",
       "      <td>5</td>\n",
       "    </tr>\n",
       "    <tr>\n",
       "      <th>2</th>\n",
       "      <td>9425</td>\n",
       "      <td>Parent Trap, The (1998)</td>\n",
       "      <td>5</td>\n",
       "    </tr>\n",
       "    <tr>\n",
       "      <th>3</th>\n",
       "      <td>9425</td>\n",
       "      <td>Toy Story (1995)</td>\n",
       "      <td>4</td>\n",
       "    </tr>\n",
       "    <tr>\n",
       "      <th>4</th>\n",
       "      <td>9425</td>\n",
       "      <td>Dinosaur (2000)</td>\n",
       "      <td>3</td>\n",
       "    </tr>\n",
       "  </tbody>\n",
       "</table>\n",
       "</div>"
      ],
      "text/plain": [
       "        user_id                                              title  count\n",
       "836473     5851                           One Little Indian (1973)      5\n",
       "836474     5854                              Slaughterhouse (1987)      4\n",
       "836475     5854             Promise, The (Versprechen, Das) (1994)      3\n",
       "836476     5938        Five Wives, Three Secretaries and Me (1998)      4\n",
       "836477     5948  Identification of a Woman (Identificazione di ...      5\n",
       "0          9425                                      Priest (1994)      4\n",
       "1          9425                                  Sister Act (1992)      5\n",
       "2          9425                            Parent Trap, The (1998)      5\n",
       "3          9425                                   Toy Story (1995)      4\n",
       "4          9425                                    Dinosaur (2000)      3"
      ]
     },
     "execution_count": 195,
     "metadata": {},
     "output_type": "execute_result"
    }
   ],
   "source": [
    "using_row = ['user_id', 'title', 'count']\n",
    "\n",
    "rating_data = merged_data[using_row]\n",
    "rating_data.tail(10)"
   ]
  },
  {
   "cell_type": "markdown",
   "metadata": {},
   "source": [
    "* 내가 추가한 영화 제목과 평점이 잘 추가된 것을 확인할 수 있다.\n",
    "* 데이터를 체크하기 위해 merged_data(원본)과 rating_data(편집용)을 분리하였다."
   ]
  },
  {
   "cell_type": "markdown",
   "metadata": {},
   "source": [
    "#### 이제 영화제목을 인덱싱하자!"
   ]
  },
  {
   "cell_type": "code",
   "execution_count": 196,
   "metadata": {},
   "outputs": [
    {
     "name": "stdout",
     "output_type": "stream",
     "text": [
      "유저 수 : 6040\n",
      "영화 수 : 3628\n"
     ]
    }
   ],
   "source": [
    "unique_user = rating_data['user_id'].unique()\n",
    "unique_movie = rating_data['title'].unique()\n",
    "\n",
    "print(\"유저 수 :\", len(unique_user))\n",
    "print(\"영화 수 :\", len(unique_movie))\n",
    "\n",
    "user_to_index = {v:k for k, v in enumerate(unique_user)}\n",
    "movie_to_index = {v:k for k, v in enumerate(unique_movie)}"
   ]
  },
  {
   "cell_type": "code",
   "execution_count": 211,
   "metadata": {},
   "outputs": [
    {
     "name": "stdout",
     "output_type": "stream",
     "text": [
      "6039\n",
      "226\n"
     ]
    }
   ],
   "source": [
    "#인덱싱이 잘 되었는지 확인해보자.\n",
    "#merged_data['title'][merged_data.movie_id == 226]\n",
    "\n",
    "print(user_to_index[9425])\n",
    "print(movie_to_index['Priest (1994)'])"
   ]
  },
  {
   "cell_type": "code",
   "execution_count": 212,
   "metadata": {},
   "outputs": [
    {
     "name": "stdout",
     "output_type": "stream",
     "text": [
      "유저 인덱싱 완료\n",
      "영화 인덱싱 실패\n"
     ]
    },
    {
     "name": "stderr",
     "output_type": "stream",
     "text": [
      "/home/ssac23/anaconda3/envs/aiffel/lib/python3.7/site-packages/ipykernel_launcher.py:6: SettingWithCopyWarning: \n",
      "A value is trying to be set on a copy of a slice from a DataFrame.\n",
      "Try using .loc[row_indexer,col_indexer] = value instead\n",
      "\n",
      "See the caveats in the documentation: https://pandas.pydata.org/pandas-docs/stable/user_guide/indexing.html#returning-a-view-versus-a-copy\n",
      "  \n"
     ]
    }
   ],
   "source": [
    "temp_user_data = rating_data['user_id'].map(user_to_index.get).dropna()\n",
    "\n",
    "#데이터가 빠짐없이 잘 들어왔다면\n",
    "if len(temp_user_data)==len(rating_data):\n",
    "    print(\"유저 인덱싱 완료\")\n",
    "    rating_data['user'] = temp_user_data\n",
    "    \n",
    "else:\n",
    "    print(\"유저 인덱싱 실패\")\n",
    "    \n",
    "\n",
    "temp_movie_data = rating_data['title'].map(movie_to_index.get).dropna()\n",
    "\n",
    "if len(temp_movie_data) == len(rating_data):\n",
    "    print(\"영화 인덱싱 완료\")\n",
    "    rating_data['title'] = temp_movie_data\n",
    "    \n",
    "else:\n",
    "    print(\"영화 인덱싱 실패\")"
   ]
  },
  {
   "cell_type": "markdown",
   "metadata": {},
   "source": [
    "* 원래 둘다 성공이었는데 괜히 건드렸군..."
   ]
  },
  {
   "cell_type": "code",
   "execution_count": 210,
   "metadata": {},
   "outputs": [
    {
     "data": {
      "text/html": [
       "<div>\n",
       "<style scoped>\n",
       "    .dataframe tbody tr th:only-of-type {\n",
       "        vertical-align: middle;\n",
       "    }\n",
       "\n",
       "    .dataframe tbody tr th {\n",
       "        vertical-align: top;\n",
       "    }\n",
       "\n",
       "    .dataframe thead th {\n",
       "        text-align: right;\n",
       "    }\n",
       "</style>\n",
       "<table border=\"1\" class=\"dataframe\">\n",
       "  <thead>\n",
       "    <tr style=\"text-align: right;\">\n",
       "      <th></th>\n",
       "      <th>user_id</th>\n",
       "      <th>title</th>\n",
       "      <th>count</th>\n",
       "      <th>user</th>\n",
       "    </tr>\n",
       "  </thead>\n",
       "  <tbody>\n",
       "    <tr>\n",
       "      <th>0</th>\n",
       "      <td>1</td>\n",
       "      <td>0</td>\n",
       "      <td>5</td>\n",
       "      <td>0</td>\n",
       "    </tr>\n",
       "    <tr>\n",
       "      <th>1</th>\n",
       "      <td>2</td>\n",
       "      <td>0</td>\n",
       "      <td>5</td>\n",
       "      <td>1</td>\n",
       "    </tr>\n",
       "    <tr>\n",
       "      <th>2</th>\n",
       "      <td>12</td>\n",
       "      <td>0</td>\n",
       "      <td>4</td>\n",
       "      <td>2</td>\n",
       "    </tr>\n",
       "    <tr>\n",
       "      <th>3</th>\n",
       "      <td>15</td>\n",
       "      <td>0</td>\n",
       "      <td>4</td>\n",
       "      <td>3</td>\n",
       "    </tr>\n",
       "    <tr>\n",
       "      <th>4</th>\n",
       "      <td>17</td>\n",
       "      <td>0</td>\n",
       "      <td>5</td>\n",
       "      <td>4</td>\n",
       "    </tr>\n",
       "    <tr>\n",
       "      <th>...</th>\n",
       "      <td>...</td>\n",
       "      <td>...</td>\n",
       "      <td>...</td>\n",
       "      <td>...</td>\n",
       "    </tr>\n",
       "    <tr>\n",
       "      <th>0</th>\n",
       "      <td>9425</td>\n",
       "      <td>226</td>\n",
       "      <td>4</td>\n",
       "      <td>6039</td>\n",
       "    </tr>\n",
       "    <tr>\n",
       "      <th>1</th>\n",
       "      <td>9425</td>\n",
       "      <td>668</td>\n",
       "      <td>5</td>\n",
       "      <td>6039</td>\n",
       "    </tr>\n",
       "    <tr>\n",
       "      <th>2</th>\n",
       "      <td>9425</td>\n",
       "      <td>1510</td>\n",
       "      <td>5</td>\n",
       "      <td>6039</td>\n",
       "    </tr>\n",
       "    <tr>\n",
       "      <th>3</th>\n",
       "      <td>9425</td>\n",
       "      <td>40</td>\n",
       "      <td>4</td>\n",
       "      <td>6039</td>\n",
       "    </tr>\n",
       "    <tr>\n",
       "      <th>4</th>\n",
       "      <td>9425</td>\n",
       "      <td>1635</td>\n",
       "      <td>3</td>\n",
       "      <td>6039</td>\n",
       "    </tr>\n",
       "  </tbody>\n",
       "</table>\n",
       "<p>836483 rows × 4 columns</p>\n",
       "</div>"
      ],
      "text/plain": [
       "    user_id  title  count  user\n",
       "0         1      0      5     0\n",
       "1         2      0      5     1\n",
       "2        12      0      4     2\n",
       "3        15      0      4     3\n",
       "4        17      0      5     4\n",
       "..      ...    ...    ...   ...\n",
       "0      9425    226      4  6039\n",
       "1      9425    668      5  6039\n",
       "2      9425   1510      5  6039\n",
       "3      9425     40      4  6039\n",
       "4      9425   1635      3  6039\n",
       "\n",
       "[836483 rows x 4 columns]"
      ]
     },
     "execution_count": 210,
     "metadata": {},
     "output_type": "execute_result"
    }
   ],
   "source": [
    "rating_data"
   ]
  },
  {
   "cell_type": "markdown",
   "metadata": {},
   "source": [
    "---\n",
    "## 4. CSR matrix 만들기         \n",
    "\n",
    "- 위에서 추가한 데이터를 바탕으로 CSR matrix를 만든다."
   ]
  },
  {
   "cell_type": "code",
   "execution_count": 219,
   "metadata": {},
   "outputs": [
    {
     "name": "stdout",
     "output_type": "stream",
     "text": [
      "6040 3628\n"
     ]
    }
   ],
   "source": [
    "from scipy.sparse import csr_matrix\n",
    "\n",
    "user_count = rating_data['user_id'].nunique()\n",
    "movie_count = rating_data['title'].nunique()\n",
    "\n",
    "#맨 처음 데이터 분석할 때 영화 수와 사용자 수가 이랬는데,\n",
    "#총 영화 수는 3,628개\n",
    "#사용자 수는 6,039명\n",
    "#'내'가 추가되어 사용자 수는 6,040명이 되었다.\n",
    "print(user_count, movie_count)"
   ]
  },
  {
   "cell_type": "code",
   "execution_count": 223,
   "metadata": {},
   "outputs": [],
   "source": [
    "#csc_matrix((values, (row_idx, col_idx)), shape=(14, 14))\n",
    "csr_data = csr_matrix((rating_data['count'], (rating_data.user_id, rating_data.title)))"
   ]
  },
  {
   "cell_type": "code",
   "execution_count": 224,
   "metadata": {},
   "outputs": [
    {
     "data": {
      "text/plain": [
       "<9426x3628 sparse matrix of type '<class 'numpy.int64'>'\n",
       "\twith 836483 stored elements in Compressed Sparse Row format>"
      ]
     },
     "execution_count": 224,
     "metadata": {},
     "output_type": "execute_result"
    }
   ],
   "source": [
    "csr_data"
   ]
  },
  {
   "cell_type": "markdown",
   "metadata": {},
   "source": [
    "## 6. 이제 MF모델을 학습해보자!\n",
    "\n",
    "#### 실습 권장 사항에 따라 모델을 구성한다."
   ]
  },
  {
   "cell_type": "code",
   "execution_count": 225,
   "metadata": {},
   "outputs": [
    {
     "name": "stdout",
     "output_type": "stream",
     "text": [
      "완료!\n"
     ]
    }
   ],
   "source": [
    "from implicit.als import AlternatingLeastSquares\n",
    "import os\n",
    "import numpy as np\n",
    "\n",
    "# implicit 라이브러리에서 권장하고 있는 설정\n",
    "os.environ['OPENBLAS_NUM_THREADS']='1'\n",
    "os.environ['KMP_DUPLICATE_LIB_OK']='True'\n",
    "os.environ['MKL_NUM_THREADS']='1'\n",
    "\n",
    "print(\"완료!\")"
   ]
  },
  {
   "cell_type": "code",
   "execution_count": 230,
   "metadata": {},
   "outputs": [
    {
     "name": "stdout",
     "output_type": "stream",
     "text": [
      "모델 설정 완료\n"
     ]
    }
   ],
   "source": [
    "# Implicit AlternatingLeastSquares 모델의 선언\n",
    "als_model2 = AlternatingLeastSquares(factors=100, regularization=0.01, use_gpu=False, iterations=15, dtype=np.float32)\n",
    "\n",
    "print(\"모델 설정 완료\")"
   ]
  },
  {
   "cell_type": "code",
   "execution_count": 231,
   "metadata": {},
   "outputs": [
    {
     "data": {
      "text/plain": [
       "<3628x9426 sparse matrix of type '<class 'numpy.int64'>'\n",
       "\twith 836483 stored elements in Compressed Sparse Column format>"
      ]
     },
     "execution_count": 231,
     "metadata": {},
     "output_type": "execute_result"
    }
   ],
   "source": [
    "# als 모델은 input으로 (item X user 꼴의 matrix를 받기 때문에 \n",
    "# Transpose해줍니다.)\n",
    "csr_data_transpose = csr_data.T\n",
    "csr_data_transpose"
   ]
  },
  {
   "cell_type": "code",
   "execution_count": 232,
   "metadata": {},
   "outputs": [
    {
     "data": {
      "application/vnd.jupyter.widget-view+json": {
       "model_id": "80572bed0abf45e990783c844f88f09b",
       "version_major": 2,
       "version_minor": 0
      },
      "text/plain": [
       "  0%|          | 0/15 [00:00<?, ?it/s]"
      ]
     },
     "metadata": {},
     "output_type": "display_data"
    }
   ],
   "source": [
    "als_model2.fit(csr_data_transpose)"
   ]
  },
  {
   "cell_type": "markdown",
   "metadata": {},
   "source": [
    "## 7. 추천 결과 보기\n",
    "\n",
    "### 학습시킨 모델로, 다음의 미션들을 테스트해 보자.\n",
    "1. 선호하는 5가지 영화 중 하나와 그 외의 영화 하나를 골라 훈련 모델이 예측한 선호도 파악하기\n",
    "2. 내가 좋아하는 영화와 비슷한 영화 추천받기\n",
    "3. 내가 가장 좋아할 만한 영화들 추천받기"
   ]
  },
  {
   "cell_type": "markdown",
   "metadata": {},
   "source": [
    "### 7-1. 선호하는 5가지 영화 중 하나와 그 외의 영화를 골라 훈련 모델이 예측한 선호도 파악하기"
   ]
  },
  {
   "cell_type": "code",
   "execution_count": 249,
   "metadata": {},
   "outputs": [
    {
     "name": "stdout",
     "output_type": "stream",
     "text": [
      "배정완료!\n",
      "유저 벡터 : 나\n"
     ]
    },
    {
     "data": {
      "text/plain": [
       "array([ 1.774339  , -0.17268838, -0.31762075,  4.4602056 ,  1.9750926 ,\n",
       "        1.2609806 ,  1.1045893 ,  0.6530065 , -2.059715  ,  1.7568191 ,\n",
       "       -0.7673259 ,  1.4237505 , -1.5790814 , -0.28886592, -0.67634064,\n",
       "       -0.1648709 ,  0.3449076 ,  0.68011713,  1.9797673 ,  1.7750682 ,\n",
       "        1.172078  , -0.9107431 ,  1.3634819 , -0.06183191,  3.3410537 ,\n",
       "       -3.3088205 ,  2.256485  ,  1.5686076 ,  1.1171083 ,  2.6797419 ,\n",
       "        1.4840593 ,  0.6456027 ,  1.2299981 ,  0.23394261, -3.5312197 ,\n",
       "        0.66953444, -1.2723068 ,  0.3431192 , -3.9972134 , -1.1318141 ,\n",
       "       -4.1126966 , -0.27692738,  0.15342994, -0.10682942,  3.560104  ,\n",
       "        0.6980134 ,  2.6980553 , -2.774404  ,  0.52978075,  1.3769097 ,\n",
       "        1.0349865 ,  1.5885261 , -0.38466913, -1.787514  ,  1.5803577 ,\n",
       "        0.12173811, -1.4758854 , -0.9158516 , -1.3095727 , -1.7004806 ,\n",
       "        1.3025419 ,  0.07425627,  2.1739419 ,  0.21107563, -1.9027762 ,\n",
       "       -1.6369797 , -0.59158087, -0.7903897 ,  0.82060885, -1.7891957 ,\n",
       "       -0.5239088 , -0.20898038, -0.5381145 ,  0.7697892 , -0.57146025,\n",
       "        0.7417489 , -3.1843338 ,  2.7169964 ,  0.7162395 , -0.73186624,\n",
       "        3.1099226 , -1.9211301 , -0.21741182,  1.4891824 ,  0.59522736,\n",
       "        1.9221466 ,  0.37417978, -0.11811838,  1.3667281 , -2.3141963 ,\n",
       "        0.71479875,  3.0142598 , -0.43252036,  0.2936211 ,  0.02211061,\n",
       "       -4.4247828 , -0.69299895, -0.46467075,  4.462887  ,  1.9442598 ],\n",
       "      dtype=float32)"
      ]
     },
     "execution_count": 249,
     "metadata": {},
     "output_type": "execute_result"
    }
   ],
   "source": [
    "#우선 내가 좋아한다고 언급한 영화와 나 간의 벡터 내적파악값을 찾아본다.\n",
    "# \"Priest (1994)\", \"Sister Act (1992)\", \"Parent Trap, The (1998)\", \"Toy Story (1995)\", \"Dinosaur (2000)\"\n",
    "jeongeun, toy = user_to_index[9425], movie_to_index['Toy Story (1995)']\n",
    "\n",
    "jeongeun_vector, toy_vector = als_model2.user_factors[jeongeun], als_model2.item_factors[toy]\n",
    "\n",
    "print(\"배정완료!\")\n",
    "print(\"유저 벡터 : 나\")\n",
    "jeongeun_vector"
   ]
  },
  {
   "cell_type": "code",
   "execution_count": 250,
   "metadata": {},
   "outputs": [
    {
     "name": "stdout",
     "output_type": "stream",
     "text": [
      "영화 벡터 : toy story\n"
     ]
    },
    {
     "data": {
      "text/plain": [
       "array([ 0.02420913, -0.0079531 , -0.01074834, -0.00189947,  0.0175398 ,\n",
       "        0.03085408, -0.00337586,  0.04159096, -0.00939203,  0.02476527,\n",
       "        0.02740267, -0.01593187,  0.02929531,  0.01081955,  0.0194257 ,\n",
       "        0.01279228, -0.00067852,  0.01042745, -0.00392626,  0.04600396,\n",
       "       -0.00119463, -0.00016518,  0.00719846,  0.02603287,  0.01185614,\n",
       "       -0.00196969, -0.00805549,  0.01510839, -0.00152564, -0.006768  ,\n",
       "        0.0061707 , -0.04744834,  0.03513689,  0.03085556, -0.03230185,\n",
       "       -0.02238159,  0.0032841 ,  0.00575566,  0.00065452,  0.00790497,\n",
       "        0.00203601,  0.01708071, -0.00364613, -0.00250113,  0.00118599,\n",
       "        0.00538388, -0.01652845,  0.00857473,  0.02477388, -0.00214614,\n",
       "        0.03629156,  0.00865927,  0.02226318,  0.03823186,  0.00774864,\n",
       "       -0.01406527, -0.00349871,  0.00128216,  0.00741738, -0.02283307,\n",
       "        0.01631735, -0.00440161,  0.05045405, -0.01909377,  0.01229057,\n",
       "        0.01904579, -0.00518658, -0.00887127, -0.00867676,  0.01939118,\n",
       "       -0.01239105,  0.01630777,  0.00430299, -0.00246039, -0.00184165,\n",
       "       -0.01386698, -0.01100777,  0.02474737, -0.01271705,  0.02012845,\n",
       "        0.00503049, -0.03673746, -0.00427041,  0.00456407,  0.05375577,\n",
       "        0.02541307, -0.00077034,  0.02269534,  0.02063457,  0.00868684,\n",
       "       -0.01104113,  0.02227074,  0.02904499,  0.0030539 , -0.01461766,\n",
       "       -0.02389636, -0.02070118,  0.02288952, -0.03625941, -0.01297054],\n",
       "      dtype=float32)"
      ]
     },
     "execution_count": 250,
     "metadata": {},
     "output_type": "execute_result"
    }
   ],
   "source": [
    "print(\"영화 벡터 : toy story\")\n",
    "\n",
    "toy_vector"
   ]
  },
  {
   "cell_type": "code",
   "execution_count": 251,
   "metadata": {},
   "outputs": [
    {
     "data": {
      "text/plain": [
       "0.5369159"
      ]
     },
     "execution_count": 251,
     "metadata": {},
     "output_type": "execute_result"
    }
   ],
   "source": [
    "np.dot(jeongeun_vector, toy_vector)"
   ]
  },
  {
   "cell_type": "markdown",
   "metadata": {},
   "source": [
    "- 오! 토이스토리의 벡터는 0.5로 나왔다. 1을 기준으로 봤을 때 꽤 선호한다고 파악한걸까?         \n",
    "- 그럼 이번엔 진짜 취향 안 맞을 것 같은 갱 영화(Crime 장르)로 시험해보자."
   ]
  },
  {
   "cell_type": "code",
   "execution_count": 252,
   "metadata": {},
   "outputs": [
    {
     "data": {
      "text/plain": [
       "0.021267619"
      ]
     },
     "execution_count": 252,
     "metadata": {},
     "output_type": "execute_result"
    }
   ],
   "source": [
    "gangster = movie_to_index['Original Gangstas (1996)']\n",
    "\n",
    "gangster_vector = als_model2.item_factors[gangster]\n",
    "np.dot(jeongeun_vector, gangster_vector)"
   ]
  },
  {
   "cell_type": "markdown",
   "metadata": {},
   "source": [
    "- 음 0.2 정도로 낮게 나온 것을 확인할 수 있다. 확실히 추천 알고리즘이 취향을 가리고 있다."
   ]
  },
  {
   "cell_type": "markdown",
   "metadata": {},
   "source": [
    "### 결과 : 좋아한다고 한 영화는 0.5점, 별로 좋아하지 않는 갱스터 영화는 0.2점으로 티나게 점수에 차이를 두고 있다."
   ]
  },
  {
   "cell_type": "markdown",
   "metadata": {},
   "source": [
    "### 7-2. 내가 좋아하는 영화와 비슷한 영화 추천받기     \n",
    "\n",
    "- 최애 영화 중 하나인 '페어런트 트랩'(린제이 로한이 쌍둥이 역할을 한 그 드라마 맞다)와 비슷한 영화를 골라달라고 하자!"
   ]
  },
  {
   "cell_type": "code",
   "execution_count": 253,
   "metadata": {},
   "outputs": [
    {
     "data": {
      "text/plain": [
       "[(1510, 1.0),\n",
       " (962, 0.7426089),\n",
       " (2182, 0.67334527),\n",
       " (1425, 0.66406107),\n",
       " (2012, 0.663027),\n",
       " (1617, 0.6513715),\n",
       " (960, 0.645591),\n",
       " (3055, 0.64320564),\n",
       " (49, 0.6416979),\n",
       " (2004, 0.63951355),\n",
       " (2003, 0.6349294),\n",
       " (2020, 0.6343858),\n",
       " (2002, 0.63437444),\n",
       " (2023, 0.62707764),\n",
       " (2572, 0.6269695)]"
      ]
     },
     "execution_count": 253,
     "metadata": {},
     "output_type": "execute_result"
    }
   ],
   "source": [
    "love_movie = 'Parent Trap, The (1998)'\n",
    "movie_num = movie_to_index[love_movie]\n",
    "similar_movie = als_model2.similar_items(movie_num, N=15)\n",
    "similar_movie"
   ]
  },
  {
   "cell_type": "code",
   "execution_count": 241,
   "metadata": {},
   "outputs": [
    {
     "data": {
      "text/plain": [
       "['Parent Trap, The (1998)',\n",
       " 'Parent Trap, The (1961)',\n",
       " 'Thumbelina (1994)',\n",
       " 'Stepmom (1998)',\n",
       " 'Angels in the Outfield (1994)',\n",
       " 'Little Rascals, The (1994)',\n",
       " 'Little Princess, A (1995)',\n",
       " 'Baby-Sitters Club, The (1995)',\n",
       " 'Secret Garden, The (1993)',\n",
       " 'Far From Home: The Adventures of Yellow Dog (1995)',\n",
       " 'Madeline (1998)',\n",
       " 'All Dogs Go to Heaven 2 (1996)',\n",
       " 'Amazing Panda Adventure, The (1995)',\n",
       " 'Flipper (1996)',\n",
       " 'Shiloh (1997)']"
      ]
     },
     "execution_count": 241,
     "metadata": {},
     "output_type": "execute_result"
    }
   ],
   "source": [
    "#코드로 나오면 모르니까, 영화 이름으로 바꿔달라고 하자.\n",
    "index_to_movie = {v:k for k, v in movie_to_index.items()}\n",
    "[index_to_movie[i[0]] for i in similar_movie]"
   ]
  },
  {
   "cell_type": "markdown",
   "metadata": {},
   "source": [
    "## 추천받은 결과 : 뭐, 나쁘지 않아! (사실 너무 옛날영화들이라 잘 모르겠음...)\n",
    "- 너무 옛날 영화들이라 잘 모르겠지만(막 태어났을 때의 영화가 많군... 나랑 동갑내기인 년도가 많아 보인다)      \n",
    "- 몇 개를 검색해보니 비슷한 드라마, 가족 위주의 드라마임을 알 수 있었다."
   ]
  },
  {
   "cell_type": "markdown",
   "metadata": {},
   "source": [
    "### 7-3. 이번에는 '이 영화와 비슷한 영화'를 알려달라고 하자."
   ]
  },
  {
   "cell_type": "code",
   "execution_count": 242,
   "metadata": {},
   "outputs": [
    {
     "name": "stdout",
     "output_type": "stream",
     "text": [
      "함수 설정 완료\n"
     ]
    }
   ],
   "source": [
    "def get_similar_movie(movie_name: str):\n",
    "    movie_num = movie_to_index[movie_name]\n",
    "    similar_movie = als_model2.similar_items(movie_num)\n",
    "    similar_movie = [index_to_movie[i[0]] for i in similar_movie]\n",
    "    return similar_movie\n",
    "\n",
    "print(\"함수 설정 완료\")"
   ]
  },
  {
   "cell_type": "code",
   "execution_count": 243,
   "metadata": {},
   "outputs": [
    {
     "data": {
      "text/plain": [
       "['Priest (1994)',\n",
       " 'Velvet Goldmine (1998)',\n",
       " 'Get Real (1998)',\n",
       " 'Trick (1999)',\n",
       " 'Wild Reeds (1994)',\n",
       " 'Hanging Garden, The (1997)',\n",
       " 'Wilde (1997)',\n",
       " 'Beautiful Thing (1996)',\n",
       " 'Stonewall (1995)',\n",
       " 'Bent (1997)']"
      ]
     },
     "execution_count": 243,
     "metadata": {},
     "output_type": "execute_result"
    }
   ],
   "source": [
    "get_similar_movie(\"Priest (1994)\")"
   ]
  },
  {
   "cell_type": "markdown",
   "metadata": {},
   "source": [
    "## 결과 : 너 진짜 비슷한 거 잘 찾는구나! 프리스트(1994)랑 비슷한 거 찾았다고?\n",
    "\n",
    "- 와 마지막 영화 검색해보고 소름돋았다. 벤트(1997)는 '나치 치하에 살던 성소수자의 이야기를 그린 영화'.       \n",
    "- 내가 언급한 '프리스트(1994)' 역시, 신부라는 직업을 가지고 있지만 성소수자이기 때문에 고뇌를 겪는 인물을 그린 영화이다.         \n",
    "\n",
    "- 진짜 잘 찾는다이.."
   ]
  },
  {
   "cell_type": "markdown",
   "metadata": {},
   "source": [
    "### 7-4. 유저에게 영화 추천하기\n",
    "- recommend 메서드를 통하여 제가 좋아할 만한 아티스트를 추천받자.\n",
    "- filter_already_liked_items 는 유저가 이미 평가한 아이템은 제외하는 Argument"
   ]
  },
  {
   "cell_type": "code",
   "execution_count": 244,
   "metadata": {},
   "outputs": [
    {
     "data": {
      "text/plain": [
       "[(1054, 1.2331096),\n",
       " (1455, 1.0779759),\n",
       " (660, 0.90756917),\n",
       " (658, 0.90654004),\n",
       " (117, 0.8876799),\n",
       " (8, 0.8592154),\n",
       " (186, 0.8377829),\n",
       " (276, 0.81416625),\n",
       " (1096, 0.807965),\n",
       " (1284, 0.78215444),\n",
       " (503, 0.76814455),\n",
       " (536, 0.7625319),\n",
       " (619, 0.7519513),\n",
       " (1398, 0.7475635),\n",
       " (14, 0.74481404),\n",
       " (2032, 0.7346718),\n",
       " (1289, 0.7034328),\n",
       " (540, 0.6965221),\n",
       " (161, 0.69481707),\n",
       " (1094, 0.6905157)]"
      ]
     },
     "execution_count": 244,
     "metadata": {},
     "output_type": "execute_result"
    }
   ],
   "source": [
    "user = user_to_index[9425]\n",
    "\n",
    "movie_recomender = als_model2.recommend(user, csr_data, N=20, filter_already_liked_items=True)\n",
    "movie_recomender"
   ]
  },
  {
   "cell_type": "code",
   "execution_count": 246,
   "metadata": {},
   "outputs": [
    {
     "data": {
      "text/plain": [
       "['Some Like It Hot (1959)',\n",
       " 'Holiday Inn (1942)',\n",
       " 'Philadelphia Story, The (1940)',\n",
       " 'White Christmas (1954)',\n",
       " 'Star Wars: Episode V - The Empire Strikes Back (1980)',\n",
       " 'Snow White and the Seven Dwarfs (1937)',\n",
       " 'Blazing Saddles (1974)',\n",
       " 'North by Northwest (1959)',\n",
       " 'Manchurian Candidate, The (1962)',\n",
       " 'It Happened One Night (1934)',\n",
       " 'Duck Soup (1933)',\n",
       " 'Jungle Book, The (1967)',\n",
       " 'Alice in Wonderland (1951)',\n",
       " 'South Pacific (1958)',\n",
       " 'Sound of Music, The (1965)',\n",
       " 'On the Town (1949)',\n",
       " 'Conversation, The (1974)',\n",
       " 'Young Frankenstein (1974)',\n",
       " 'Graduate, The (1967)',\n",
       " 'Double Indemnity (1944)']"
      ]
     },
     "execution_count": 246,
     "metadata": {},
     "output_type": "execute_result"
    }
   ],
   "source": [
    "[index_to_movie[i[0]] for i in movie_recomender]"
   ]
  },
  {
   "cell_type": "markdown",
   "metadata": {},
   "source": [
    "## 추천 결과 : 추천 성공이라 말해봅니다\n",
    "\n",
    "- 아 헐 나 사운드오브뮤직 좋아해...         \n",
    "- 홀리데이 인(1942)도 위시리스트에 있었던 것 같은데    \n",
    "- 제가 동물나오고 인류애가 가득하고 노래가 있고(뮤지컬 영화류) 판타지배경인 영화를 좋아한다는 사실을 너무 빨리 깨우쳐버리신 추천 알고리즘님"
   ]
  },
  {
   "cell_type": "markdown",
   "metadata": {},
   "source": [
    "##### 궁금하니까 '왜 추천했는지' 도 explain 함수로 알아봅시다."
   ]
  },
  {
   "cell_type": "code",
   "execution_count": 247,
   "metadata": {},
   "outputs": [],
   "source": [
    "#뭘 보고 내게 사운드오브뮤직을 추천했는가\n",
    "sounds= movie_to_index['Sound of Music, The (1965)']\n",
    "explain = als_model2.explain(user, csr_data, itemid=sounds)"
   ]
  },
  {
   "cell_type": "code",
   "execution_count": 248,
   "metadata": {},
   "outputs": [
    {
     "data": {
      "text/plain": [
       "[('West Side Story (1961)', 0.10865047270206063),\n",
       " ('Mary Poppins (1964)', 0.10276853446669545),\n",
       " ('My Fair Lady (1964)', 0.0957763671924701),\n",
       " ('Airplane! (1980)', 0.08074486229467305),\n",
       " ('Oliver! (1968)', 0.07194479685421476),\n",
       " ('Arsenic and Old Lace (1944)', 0.05217262289906936),\n",
       " ('Fantasia (1940)', 0.04748867183538814),\n",
       " ('Meet Me in St. Louis (1944)', 0.04737600275310456),\n",
       " ('Wizard of Oz, The (1939)', 0.04571909379942443),\n",
       " ('James and the Giant Peach (1996)', 0.044071185751930066)]"
      ]
     },
     "execution_count": 248,
     "metadata": {},
     "output_type": "execute_result"
    }
   ],
   "source": [
    "[(index_to_movie[i[0]], i[1]) for i in explain[1]]"
   ]
  },
  {
   "cell_type": "markdown",
   "metadata": {},
   "source": [
    "- 귀신같이 등장하는 메리 포핀스. 메리포핀스리턴즈를 보러 간 나의 취향을 정확히 파악했다.      \n",
    "- 웨스트 사이드 스토리, 마이 페어 레이디도 모두 위시리스트에 있는 영화들."
   ]
  }
 ],
 "metadata": {
  "kernelspec": {
   "display_name": "aiffel",
   "language": "python",
   "name": "aiffel"
  },
  "language_info": {
   "codemirror_mode": {
    "name": "ipython",
    "version": 3
   },
   "file_extension": ".py",
   "mimetype": "text/x-python",
   "name": "python",
   "nbconvert_exporter": "python",
   "pygments_lexer": "ipython3",
   "version": "3.7.9"
  }
 },
 "nbformat": 4,
 "nbformat_minor": 4
}
